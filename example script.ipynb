{
 "cells": [
  {
   "cell_type": "code",
   "execution_count": 14,
   "id": "60e0dd18",
   "metadata": {},
   "outputs": [],
   "source": [
    "from harmonization_env_package.harmonization_environment import *\n",
    "\n",
    "env = HarmonizationEnv(device = 'cpu')\n",
    "net = NetM.load_from_checkpoint('m_params_2.pth', device = 'cpu')\n",
    "\n",
    "agent = Agent(env, net, alterations = True)"
   ]
  },
  {
   "cell_type": "code",
   "execution_count": 16,
   "id": "0ae9f4d7",
   "metadata": {},
   "outputs": [],
   "source": [
    "melody = torch.tensor([64, 64, 65, 65, \n",
    "                       67, 69, 69, 62,\n",
    "                       67, 67, 68, 71,\n",
    "                       69, 71, 72, 65,\n",
    "                       64, 64, 62, 62,\n",
    "                       60, 60, 60, 60,\n",
    "                       60], dtype = torch.int32)\n",
    "\n",
    "melody += 12"
   ]
  },
  {
   "cell_type": "code",
   "execution_count": 11,
   "id": "542d686a",
   "metadata": {},
   "outputs": [
    {
     "data": {
      "text/plain": [
       "'\\node_to_joy = torch.tensor([\\n    76, 76, 77, 79,  79, 77, 76, 74,  72, 72, 74, 76,  76, 74, 74, 74,\\n    76, 76, 77, 79,  79, 77, 76, 74,  72, 72, 74, 76,  74, 72, 72, 72,\\n    74, 74, 76, 72,  74, 77, 76, 72,  74, 77, 76, 74,  72, 74, 67, 76,\\n    76, 76, 77, 79,  79, 77, 76, 74,  72, 72, 74, 76,  74, 72, 72, 72,\\n    72\\n], dtype = torch.int32)\\n'"
      ]
     },
     "execution_count": 11,
     "metadata": {},
     "output_type": "execute_result"
    }
   ],
   "source": [
    "'''\n",
    "ode_to_joy = torch.tensor([\n",
    "    76, 76, 77, 79,  79, 77, 76, 74,  72, 72, 74, 76,  76, 74, 74, 74,\n",
    "    76, 76, 77, 79,  79, 77, 76, 74,  72, 72, 74, 76,  74, 72, 72, 72,\n",
    "    74, 74, 76, 72,  74, 77, 76, 72,  74, 77, 76, 74,  72, 74, 67, 76,\n",
    "    76, 76, 77, 79,  79, 77, 76, 74,  72, 72, 74, 76,  74, 72, 72, 72,\n",
    "    72\n",
    "], dtype = torch.int32)\n",
    "'''"
   ]
  },
  {
   "cell_type": "code",
   "execution_count": 18,
   "id": "b165f7e8",
   "metadata": {},
   "outputs": [
    {
     "name": "stdout",
     "output_type": "stream",
     "text": [
      "rewards. mean : 0.622, var : 0.053\n"
     ]
    }
   ],
   "source": [
    "chords, reward = agent.get(\n",
    "    melody = melody\n",
    ")\n",
    "\n",
    "run = chords[0, :]\n",
    "\n",
    "v = Voicer(melody, run)\n",
    "voices = v.get()\n",
    "\n",
    "player = MIDIGenerator() \n",
    "\n",
    "player.generate(voices, filenames = 'test0.mid')\n",
    "player.play(filename = 'test0.mid')"
   ]
  }
 ],
 "metadata": {
  "kernelspec": {
   "display_name": "Python 3",
   "language": "python",
   "name": "python3"
  },
  "language_info": {
   "codemirror_mode": {
    "name": "ipython",
    "version": 3
   },
   "file_extension": ".py",
   "mimetype": "text/x-python",
   "name": "python",
   "nbconvert_exporter": "python",
   "pygments_lexer": "ipython3",
   "version": "3.11.0"
  }
 },
 "nbformat": 4,
 "nbformat_minor": 5
}
